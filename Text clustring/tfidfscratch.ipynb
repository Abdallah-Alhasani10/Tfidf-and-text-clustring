{
 "cells": [
  {
   "cell_type": "code",
   "execution_count": 1,
   "metadata": {},
   "outputs": [],
   "source": [
    "import numpy as np\n"
   ]
  },
  {
   "cell_type": "code",
   "execution_count": 6,
   "metadata": {},
   "outputs": [],
   "source": [
    "documents=\"\"\"\n",
    "simple example with cats and dogs \n",
    "another simple example with dogs and cats\n",
    "another simple example with mouse and cheese\n",
    "\"\"\".split(\"\\n\")[1:-1]"
   ]
  },
  {
   "cell_type": "code",
   "execution_count": 7,
   "metadata": {},
   "outputs": [
    {
     "data": {
      "text/plain": [
       "['simple example with cats and dogs ',\n",
       " 'another simple example with dogs and cats',\n",
       " 'another simple example with mouse and cheese']"
      ]
     },
     "execution_count": 7,
     "metadata": {},
     "output_type": "execute_result"
    }
   ],
   "source": [
    "documents"
   ]
  },
  {
   "cell_type": "code",
   "execution_count": 9,
   "metadata": {},
   "outputs": [],
   "source": [
    "la=documents[0].lower().split()\n",
    "lb=documents[1].lower().split()\n",
    "lc=documents[2].lower().split()"
   ]
  },
  {
   "cell_type": "code",
   "execution_count": 11,
   "metadata": {},
   "outputs": [],
   "source": [
    "word_dict=set(la).union(set(lb)).union(set(lc))"
   ]
  },
  {
   "cell_type": "code",
   "execution_count": 12,
   "metadata": {},
   "outputs": [
    {
     "data": {
      "text/plain": [
       "{'and',\n",
       " 'another',\n",
       " 'cats',\n",
       " 'cheese',\n",
       " 'dogs',\n",
       " 'example',\n",
       " 'mouse',\n",
       " 'simple',\n",
       " 'with'}"
      ]
     },
     "execution_count": 12,
     "metadata": {},
     "output_type": "execute_result"
    }
   ],
   "source": [
    "word_dict"
   ]
  },
  {
   "cell_type": "code",
   "execution_count": 13,
   "metadata": {},
   "outputs": [],
   "source": [
    "word_dict_A=dict.fromkeys(word_dict,0)\n",
    "word_dict_B=dict.fromkeys(word_dict,0)\n",
    "word_dict_C=dict.fromkeys(word_dict,0)"
   ]
  },
  {
   "cell_type": "code",
   "execution_count": 14,
   "metadata": {},
   "outputs": [],
   "source": [
    "for word in la:\n",
    "    word_dict_A[word]+=1\n",
    "for word in lb:\n",
    "    word_dict_B[word]+=1\n",
    "for word in lc:\n",
    "    word_dict_C[word]+=1"
   ]
  },
  {
   "cell_type": "code",
   "execution_count": 17,
   "metadata": {},
   "outputs": [],
   "source": [
    "def computetf(wordDict,bgofwords):\n",
    "    n=len(bgofwords)\n",
    "    tfdict={}\n",
    "    for word ,count in wordDict.items():\n",
    "        tfdict[word]=count/float(n)\n",
    "    return tfdict\n"
   ]
  },
  {
   "cell_type": "code",
   "execution_count": 19,
   "metadata": {},
   "outputs": [],
   "source": [
    "tfa=computetf(word_dict_A,la)\n",
    "tfb=computetf(word_dict_B,lb)\n",
    "tfc=computetf(word_dict_C,lc)"
   ]
  },
  {
   "cell_type": "code",
   "execution_count": 22,
   "metadata": {},
   "outputs": [],
   "source": [
    "def computeidf(docs):\n",
    "    import math\n",
    "    idfdict=dict.fromkeys(docs[0].keys(),0)\n",
    "    n=len(docs)\n",
    "    for doc in docs:\n",
    "        for word,val in doc.items():\n",
    "            if val>0:\n",
    "                idfdict[word]+=1\n",
    "    for word,val in idfdict.items():\n",
    "        idfdict[word]=math.log(n/float(val))\n",
    "    return idfdict\n",
    "    "
   ]
  },
  {
   "cell_type": "code",
   "execution_count": 26,
   "metadata": {},
   "outputs": [],
   "source": [
    "idf=computeidf([word_dict_A,word_dict_B,word_dict_C])"
   ]
  },
  {
   "cell_type": "code",
   "execution_count": 27,
   "metadata": {},
   "outputs": [],
   "source": [
    "def computetfidf(tf,idf):\n",
    "    tfidf={}\n",
    "    for word,val in tf.items():\n",
    "        tfidf[word]=val*idf[word]\n",
    "    return tfidf"
   ]
  },
  {
   "cell_type": "code",
   "execution_count": 28,
   "metadata": {},
   "outputs": [
    {
     "data": {
      "text/plain": [
       "{'example': 0.0,\n",
       " 'another': 0.0,\n",
       " 'and': 0.0,\n",
       " 'cats': 0.06757751801802739,\n",
       " 'with': 0.0,\n",
       " 'dogs': 0.06757751801802739,\n",
       " 'cheese': 0.0,\n",
       " 'simple': 0.0,\n",
       " 'mouse': 0.0}"
      ]
     },
     "execution_count": 28,
     "metadata": {},
     "output_type": "execute_result"
    }
   ],
   "source": [
    "computetfidf(tfa,idf)"
   ]
  },
  {
   "cell_type": "code",
   "execution_count": 62,
   "metadata": {},
   "outputs": [],
   "source": [
    "from sklearn.feature_extraction.text import TfidfVectorizer\n",
    "from sklearn.cluster import KMeans\n",
    "from sklearn.metrics import adjusted_rand_score\n",
    "\n",
    "docs=\"\"\"\n",
    "Food is an essential part of human life, and its production and distribution have been impacted by wars throughout history. Wars have not only disrupted the food supply but have also influenced our cultural relationship with food. In this article, we explore how conflicts shape our relationship with food and the stories behind them.\n",
    "Food as a Weapon of War\n",
    "Throughout history, food has been used as a weapon of war. During times of conflict, armies often targeted crops and livestock to deprive their enemies of food. This tactic was used during the American Civil War when Union troops destroyed crops and livestock to weaken the Confederacy's food supply.\n",
    "In more recent times, food has been used as a tool of political manipulation. During the Cold War, the Soviet Union used its control of the food supply to exert influence over Eastern Europe. In Cuba, the United States imposed a trade embargo in 1960 that limited the country's access to food, medicine, and other essential goods.\n",
    "Food as a Symbol of Resistance\n",
    "In many conflicts, food has become a symbol of resistance. In the Palestinian territories, falafel, hummus, and other traditional foods have become symbols of Palestinian identity and resistance against Israeli occupation. During the Algerian War of Independence, traditional Algerian cuisine was used to assert national identity and promote resistance against French colonialism.\n",
    "Food has also played a role in civil rights movements. In the United States, sit-ins at lunch counters were a key part of the civil rights movement. These sit-ins were used to protest segregation in public places, including restaurants. Food was used as a symbol of equality, and the act of sharing a meal became a powerful tool for social change.\n",
    "Food as a Comfort in Times of War\n",
    "In times of war, food can provide comfort and a sense of normalcy. Soldiers on the front lines often receive care packages from home, which include food and other comforts. During World War II, the United States launched a massive effort to send care packages to soldiers, which included canned goods, candy, and cigarettes.\n",
    "Food can also provide comfort to civilians affected by war. In areas of conflict, food aid is often distributed to those in need. In Syria, for example, organizations such as the World Food Programme provide food assistance to millions of people affected by the ongoing conflict.\n",
    "Food as a Cultural Bridge\n",
    "Despite the impact of war on food, it can also serve as a cultural bridge. Food has the power to bring people together, even in times of conflict. In Israel and Palestine, joint cooking programs bring Jewish and Arab women together to share traditional recipes and stories. In Afghanistan, the organization Bamiyan Cultural Centre brings together people from different ethnic and religious backgrounds to share meals and cultural traditions.\n",
    "Conclusion\n",
    "Food and war are intertwined in complex ways. Conflicts have impacted the food supply, influenced our cultural relationship with food, and even led to the use of food as a weapon of war. Despite this, food also has the power to provide comfort, serve as a symbol of resistance, and bridge cultural divides. The stories behind food and war remind us of the importance of food in our lives and the need for compassion and understanding in times of conflict\n",
    "\"\"\".split(\"\\n\")[1:-1]"
   ]
  },
  {
   "cell_type": "code",
   "execution_count": 63,
   "metadata": {},
   "outputs": [
    {
     "data": {
      "text/plain": [
       "['Food is an essential part of human life, and its production and distribution have been impacted by wars throughout history. Wars have not only disrupted the food supply but have also influenced our cultural relationship with food. In this article, we explore how conflicts shape our relationship with food and the stories behind them.',\n",
       " 'Food as a Weapon of War',\n",
       " \"Throughout history, food has been used as a weapon of war. During times of conflict, armies often targeted crops and livestock to deprive their enemies of food. This tactic was used during the American Civil War when Union troops destroyed crops and livestock to weaken the Confederacy's food supply.\",\n",
       " \"In more recent times, food has been used as a tool of political manipulation. During the Cold War, the Soviet Union used its control of the food supply to exert influence over Eastern Europe. In Cuba, the United States imposed a trade embargo in 1960 that limited the country's access to food, medicine, and other essential goods.\",\n",
       " 'Food as a Symbol of Resistance',\n",
       " 'In many conflicts, food has become a symbol of resistance. In the Palestinian territories, falafel, hummus, and other traditional foods have become symbols of Palestinian identity and resistance against Israeli occupation. During the Algerian War of Independence, traditional Algerian cuisine was used to assert national identity and promote resistance against French colonialism.',\n",
       " 'Food has also played a role in civil rights movements. In the United States, sit-ins at lunch counters were a key part of the civil rights movement. These sit-ins were used to protest segregation in public places, including restaurants. Food was used as a symbol of equality, and the act of sharing a meal became a powerful tool for social change.',\n",
       " 'Food as a Comfort in Times of War',\n",
       " 'In times of war, food can provide comfort and a sense of normalcy. Soldiers on the front lines often receive care packages from home, which include food and other comforts. During World War II, the United States launched a massive effort to send care packages to soldiers, which included canned goods, candy, and cigarettes.',\n",
       " 'Food can also provide comfort to civilians affected by war. In areas of conflict, food aid is often distributed to those in need. In Syria, for example, organizations such as the World Food Programme provide food assistance to millions of people affected by the ongoing conflict.',\n",
       " 'Food as a Cultural Bridge',\n",
       " 'Despite the impact of war on food, it can also serve as a cultural bridge. Food has the power to bring people together, even in times of conflict. In Israel and Palestine, joint cooking programs bring Jewish and Arab women together to share traditional recipes and stories. In Afghanistan, the organization Bamiyan Cultural Centre brings together people from different ethnic and religious backgrounds to share meals and cultural traditions.',\n",
       " 'Conclusion',\n",
       " 'Food and war are intertwined in complex ways. Conflicts have impacted the food supply, influenced our cultural relationship with food, and even led to the use of food as a weapon of war. Despite this, food also has the power to provide comfort, serve as a symbol of resistance, and bridge cultural divides. The stories behind food and war remind us of the importance of food in our lives and the need for compassion and understanding in times of conflict']"
      ]
     },
     "execution_count": 63,
     "metadata": {},
     "output_type": "execute_result"
    }
   ],
   "source": [
    "docs"
   ]
  },
  {
   "cell_type": "code",
   "execution_count": 73,
   "metadata": {},
   "outputs": [],
   "source": [
    "vec=TfidfVectorizer(stop_words=\"english\")\n",
    "x=vec.fit_transform(docs)"
   ]
  },
  {
   "cell_type": "code",
   "execution_count": 74,
   "metadata": {},
   "outputs": [
    {
     "data": {
      "text/plain": [
       "array([[0.        , 0.        , 0.        , ..., 0.        , 0.        ,\n",
       "        0.        ],\n",
       "       [0.        , 0.        , 0.        , ..., 0.79595181, 0.        ,\n",
       "        0.        ],\n",
       "       [0.        , 0.        , 0.        , ..., 0.15076725, 0.        ,\n",
       "        0.        ],\n",
       "       ...,\n",
       "       [0.        , 0.        , 0.        , ..., 0.        , 0.1541455 ,\n",
       "        0.        ],\n",
       "       [0.        , 0.        , 0.        , ..., 0.        , 0.        ,\n",
       "        0.        ],\n",
       "       [0.        , 0.        , 0.        , ..., 0.13584616, 0.        ,\n",
       "        0.        ]])"
      ]
     },
     "execution_count": 74,
     "metadata": {},
     "output_type": "execute_result"
    }
   ],
   "source": [
    "x.toarray()"
   ]
  },
  {
   "cell_type": "code",
   "execution_count": 75,
   "metadata": {},
   "outputs": [
    {
     "data": {
      "text/plain": [
       "array(['1960', 'access', 'act', 'affected', 'afghanistan', 'aid',\n",
       "       'algerian', 'american', 'arab', 'areas', 'armies', 'article',\n",
       "       'assert', 'assistance', 'backgrounds', 'bamiyan', 'bridge',\n",
       "       'bring', 'brings', 'candy', 'canned', 'care', 'centre', 'change',\n",
       "       'cigarettes', 'civil', 'civilians', 'cold', 'colonialism',\n",
       "       'comfort', 'comforts', 'compassion', 'complex', 'conclusion',\n",
       "       'confederacy', 'conflict', 'conflicts', 'control', 'cooking',\n",
       "       'counters', 'country', 'crops', 'cuba', 'cuisine', 'cultural',\n",
       "       'deprive', 'despite', 'destroyed', 'different', 'disrupted',\n",
       "       'distributed', 'distribution', 'divides', 'eastern', 'effort',\n",
       "       'embargo', 'enemies', 'equality', 'essential', 'ethnic', 'europe',\n",
       "       'example', 'exert', 'explore', 'falafel', 'food', 'foods',\n",
       "       'french', 'goods', 'history', 'home', 'human', 'hummus',\n",
       "       'identity', 'ii', 'impact', 'impacted', 'importance', 'imposed',\n",
       "       'include', 'included', 'including', 'independence', 'influence',\n",
       "       'influenced', 'ins', 'intertwined', 'israel', 'israeli', 'jewish',\n",
       "       'joint', 'key', 'launched', 'led', 'life', 'limited', 'lines',\n",
       "       'lives', 'livestock', 'lunch', 'manipulation', 'massive', 'meal',\n",
       "       'meals', 'medicine', 'millions', 'movement', 'movements',\n",
       "       'national', 'need', 'normalcy', 'occupation', 'ongoing',\n",
       "       'organization', 'organizations', 'packages', 'palestine',\n",
       "       'palestinian', 'people', 'places', 'played', 'political', 'power',\n",
       "       'powerful', 'production', 'programme', 'programs', 'promote',\n",
       "       'protest', 'provide', 'public', 'receive', 'recent', 'recipes',\n",
       "       'relationship', 'religious', 'remind', 'resistance', 'restaurants',\n",
       "       'rights', 'role', 'segregation', 'send', 'sense', 'serve', 'shape',\n",
       "       'share', 'sharing', 'sit', 'social', 'soldiers', 'soviet',\n",
       "       'states', 'stories', 'supply', 'symbol', 'symbols', 'syria',\n",
       "       'tactic', 'targeted', 'territories', 'times', 'tool', 'trade',\n",
       "       'traditional', 'traditions', 'troops', 'understanding', 'union',\n",
       "       'united', 'use', 'used', 'war', 'wars', 'ways', 'weaken', 'weapon',\n",
       "       'women', 'world'], dtype=object)"
      ]
     },
     "execution_count": 75,
     "metadata": {},
     "output_type": "execute_result"
    }
   ],
   "source": [
    "terms=vec.get_feature_names_out()\n",
    "terms"
   ]
  },
  {
   "cell_type": "code",
   "execution_count": 112,
   "metadata": {},
   "outputs": [],
   "source": [
    "model=KMeans(init=\"k-means++\",max_iter=500)"
   ]
  },
  {
   "cell_type": "code",
   "execution_count": 113,
   "metadata": {},
   "outputs": [
    {
     "data": {
      "text/html": [
       "<style>#sk-container-id-8 {\n",
       "  /* Definition of color scheme common for light and dark mode */\n",
       "  --sklearn-color-text: black;\n",
       "  --sklearn-color-line: gray;\n",
       "  /* Definition of color scheme for unfitted estimators */\n",
       "  --sklearn-color-unfitted-level-0: #fff5e6;\n",
       "  --sklearn-color-unfitted-level-1: #f6e4d2;\n",
       "  --sklearn-color-unfitted-level-2: #ffe0b3;\n",
       "  --sklearn-color-unfitted-level-3: chocolate;\n",
       "  /* Definition of color scheme for fitted estimators */\n",
       "  --sklearn-color-fitted-level-0: #f0f8ff;\n",
       "  --sklearn-color-fitted-level-1: #d4ebff;\n",
       "  --sklearn-color-fitted-level-2: #b3dbfd;\n",
       "  --sklearn-color-fitted-level-3: cornflowerblue;\n",
       "\n",
       "  /* Specific color for light theme */\n",
       "  --sklearn-color-text-on-default-background: var(--sg-text-color, var(--theme-code-foreground, var(--jp-content-font-color1, black)));\n",
       "  --sklearn-color-background: var(--sg-background-color, var(--theme-background, var(--jp-layout-color0, white)));\n",
       "  --sklearn-color-border-box: var(--sg-text-color, var(--theme-code-foreground, var(--jp-content-font-color1, black)));\n",
       "  --sklearn-color-icon: #696969;\n",
       "\n",
       "  @media (prefers-color-scheme: dark) {\n",
       "    /* Redefinition of color scheme for dark theme */\n",
       "    --sklearn-color-text-on-default-background: var(--sg-text-color, var(--theme-code-foreground, var(--jp-content-font-color1, white)));\n",
       "    --sklearn-color-background: var(--sg-background-color, var(--theme-background, var(--jp-layout-color0, #111)));\n",
       "    --sklearn-color-border-box: var(--sg-text-color, var(--theme-code-foreground, var(--jp-content-font-color1, white)));\n",
       "    --sklearn-color-icon: #878787;\n",
       "  }\n",
       "}\n",
       "\n",
       "#sk-container-id-8 {\n",
       "  color: var(--sklearn-color-text);\n",
       "}\n",
       "\n",
       "#sk-container-id-8 pre {\n",
       "  padding: 0;\n",
       "}\n",
       "\n",
       "#sk-container-id-8 input.sk-hidden--visually {\n",
       "  border: 0;\n",
       "  clip: rect(1px 1px 1px 1px);\n",
       "  clip: rect(1px, 1px, 1px, 1px);\n",
       "  height: 1px;\n",
       "  margin: -1px;\n",
       "  overflow: hidden;\n",
       "  padding: 0;\n",
       "  position: absolute;\n",
       "  width: 1px;\n",
       "}\n",
       "\n",
       "#sk-container-id-8 div.sk-dashed-wrapped {\n",
       "  border: 1px dashed var(--sklearn-color-line);\n",
       "  margin: 0 0.4em 0.5em 0.4em;\n",
       "  box-sizing: border-box;\n",
       "  padding-bottom: 0.4em;\n",
       "  background-color: var(--sklearn-color-background);\n",
       "}\n",
       "\n",
       "#sk-container-id-8 div.sk-container {\n",
       "  /* jupyter's `normalize.less` sets `[hidden] { display: none; }`\n",
       "     but bootstrap.min.css set `[hidden] { display: none !important; }`\n",
       "     so we also need the `!important` here to be able to override the\n",
       "     default hidden behavior on the sphinx rendered scikit-learn.org.\n",
       "     See: https://github.com/scikit-learn/scikit-learn/issues/21755 */\n",
       "  display: inline-block !important;\n",
       "  position: relative;\n",
       "}\n",
       "\n",
       "#sk-container-id-8 div.sk-text-repr-fallback {\n",
       "  display: none;\n",
       "}\n",
       "\n",
       "div.sk-parallel-item,\n",
       "div.sk-serial,\n",
       "div.sk-item {\n",
       "  /* draw centered vertical line to link estimators */\n",
       "  background-image: linear-gradient(var(--sklearn-color-text-on-default-background), var(--sklearn-color-text-on-default-background));\n",
       "  background-size: 2px 100%;\n",
       "  background-repeat: no-repeat;\n",
       "  background-position: center center;\n",
       "}\n",
       "\n",
       "/* Parallel-specific style estimator block */\n",
       "\n",
       "#sk-container-id-8 div.sk-parallel-item::after {\n",
       "  content: \"\";\n",
       "  width: 100%;\n",
       "  border-bottom: 2px solid var(--sklearn-color-text-on-default-background);\n",
       "  flex-grow: 1;\n",
       "}\n",
       "\n",
       "#sk-container-id-8 div.sk-parallel {\n",
       "  display: flex;\n",
       "  align-items: stretch;\n",
       "  justify-content: center;\n",
       "  background-color: var(--sklearn-color-background);\n",
       "  position: relative;\n",
       "}\n",
       "\n",
       "#sk-container-id-8 div.sk-parallel-item {\n",
       "  display: flex;\n",
       "  flex-direction: column;\n",
       "}\n",
       "\n",
       "#sk-container-id-8 div.sk-parallel-item:first-child::after {\n",
       "  align-self: flex-end;\n",
       "  width: 50%;\n",
       "}\n",
       "\n",
       "#sk-container-id-8 div.sk-parallel-item:last-child::after {\n",
       "  align-self: flex-start;\n",
       "  width: 50%;\n",
       "}\n",
       "\n",
       "#sk-container-id-8 div.sk-parallel-item:only-child::after {\n",
       "  width: 0;\n",
       "}\n",
       "\n",
       "/* Serial-specific style estimator block */\n",
       "\n",
       "#sk-container-id-8 div.sk-serial {\n",
       "  display: flex;\n",
       "  flex-direction: column;\n",
       "  align-items: center;\n",
       "  background-color: var(--sklearn-color-background);\n",
       "  padding-right: 1em;\n",
       "  padding-left: 1em;\n",
       "}\n",
       "\n",
       "\n",
       "/* Toggleable style: style used for estimator/Pipeline/ColumnTransformer box that is\n",
       "clickable and can be expanded/collapsed.\n",
       "- Pipeline and ColumnTransformer use this feature and define the default style\n",
       "- Estimators will overwrite some part of the style using the `sk-estimator` class\n",
       "*/\n",
       "\n",
       "/* Pipeline and ColumnTransformer style (default) */\n",
       "\n",
       "#sk-container-id-8 div.sk-toggleable {\n",
       "  /* Default theme specific background. It is overwritten whether we have a\n",
       "  specific estimator or a Pipeline/ColumnTransformer */\n",
       "  background-color: var(--sklearn-color-background);\n",
       "}\n",
       "\n",
       "/* Toggleable label */\n",
       "#sk-container-id-8 label.sk-toggleable__label {\n",
       "  cursor: pointer;\n",
       "  display: block;\n",
       "  width: 100%;\n",
       "  margin-bottom: 0;\n",
       "  padding: 0.5em;\n",
       "  box-sizing: border-box;\n",
       "  text-align: center;\n",
       "}\n",
       "\n",
       "#sk-container-id-8 label.sk-toggleable__label-arrow:before {\n",
       "  /* Arrow on the left of the label */\n",
       "  content: \"▸\";\n",
       "  float: left;\n",
       "  margin-right: 0.25em;\n",
       "  color: var(--sklearn-color-icon);\n",
       "}\n",
       "\n",
       "#sk-container-id-8 label.sk-toggleable__label-arrow:hover:before {\n",
       "  color: var(--sklearn-color-text);\n",
       "}\n",
       "\n",
       "/* Toggleable content - dropdown */\n",
       "\n",
       "#sk-container-id-8 div.sk-toggleable__content {\n",
       "  max-height: 0;\n",
       "  max-width: 0;\n",
       "  overflow: hidden;\n",
       "  text-align: left;\n",
       "  /* unfitted */\n",
       "  background-color: var(--sklearn-color-unfitted-level-0);\n",
       "}\n",
       "\n",
       "#sk-container-id-8 div.sk-toggleable__content.fitted {\n",
       "  /* fitted */\n",
       "  background-color: var(--sklearn-color-fitted-level-0);\n",
       "}\n",
       "\n",
       "#sk-container-id-8 div.sk-toggleable__content pre {\n",
       "  margin: 0.2em;\n",
       "  border-radius: 0.25em;\n",
       "  color: var(--sklearn-color-text);\n",
       "  /* unfitted */\n",
       "  background-color: var(--sklearn-color-unfitted-level-0);\n",
       "}\n",
       "\n",
       "#sk-container-id-8 div.sk-toggleable__content.fitted pre {\n",
       "  /* unfitted */\n",
       "  background-color: var(--sklearn-color-fitted-level-0);\n",
       "}\n",
       "\n",
       "#sk-container-id-8 input.sk-toggleable__control:checked~div.sk-toggleable__content {\n",
       "  /* Expand drop-down */\n",
       "  max-height: 200px;\n",
       "  max-width: 100%;\n",
       "  overflow: auto;\n",
       "}\n",
       "\n",
       "#sk-container-id-8 input.sk-toggleable__control:checked~label.sk-toggleable__label-arrow:before {\n",
       "  content: \"▾\";\n",
       "}\n",
       "\n",
       "/* Pipeline/ColumnTransformer-specific style */\n",
       "\n",
       "#sk-container-id-8 div.sk-label input.sk-toggleable__control:checked~label.sk-toggleable__label {\n",
       "  color: var(--sklearn-color-text);\n",
       "  background-color: var(--sklearn-color-unfitted-level-2);\n",
       "}\n",
       "\n",
       "#sk-container-id-8 div.sk-label.fitted input.sk-toggleable__control:checked~label.sk-toggleable__label {\n",
       "  background-color: var(--sklearn-color-fitted-level-2);\n",
       "}\n",
       "\n",
       "/* Estimator-specific style */\n",
       "\n",
       "/* Colorize estimator box */\n",
       "#sk-container-id-8 div.sk-estimator input.sk-toggleable__control:checked~label.sk-toggleable__label {\n",
       "  /* unfitted */\n",
       "  background-color: var(--sklearn-color-unfitted-level-2);\n",
       "}\n",
       "\n",
       "#sk-container-id-8 div.sk-estimator.fitted input.sk-toggleable__control:checked~label.sk-toggleable__label {\n",
       "  /* fitted */\n",
       "  background-color: var(--sklearn-color-fitted-level-2);\n",
       "}\n",
       "\n",
       "#sk-container-id-8 div.sk-label label.sk-toggleable__label,\n",
       "#sk-container-id-8 div.sk-label label {\n",
       "  /* The background is the default theme color */\n",
       "  color: var(--sklearn-color-text-on-default-background);\n",
       "}\n",
       "\n",
       "/* On hover, darken the color of the background */\n",
       "#sk-container-id-8 div.sk-label:hover label.sk-toggleable__label {\n",
       "  color: var(--sklearn-color-text);\n",
       "  background-color: var(--sklearn-color-unfitted-level-2);\n",
       "}\n",
       "\n",
       "/* Label box, darken color on hover, fitted */\n",
       "#sk-container-id-8 div.sk-label.fitted:hover label.sk-toggleable__label.fitted {\n",
       "  color: var(--sklearn-color-text);\n",
       "  background-color: var(--sklearn-color-fitted-level-2);\n",
       "}\n",
       "\n",
       "/* Estimator label */\n",
       "\n",
       "#sk-container-id-8 div.sk-label label {\n",
       "  font-family: monospace;\n",
       "  font-weight: bold;\n",
       "  display: inline-block;\n",
       "  line-height: 1.2em;\n",
       "}\n",
       "\n",
       "#sk-container-id-8 div.sk-label-container {\n",
       "  text-align: center;\n",
       "}\n",
       "\n",
       "/* Estimator-specific */\n",
       "#sk-container-id-8 div.sk-estimator {\n",
       "  font-family: monospace;\n",
       "  border: 1px dotted var(--sklearn-color-border-box);\n",
       "  border-radius: 0.25em;\n",
       "  box-sizing: border-box;\n",
       "  margin-bottom: 0.5em;\n",
       "  /* unfitted */\n",
       "  background-color: var(--sklearn-color-unfitted-level-0);\n",
       "}\n",
       "\n",
       "#sk-container-id-8 div.sk-estimator.fitted {\n",
       "  /* fitted */\n",
       "  background-color: var(--sklearn-color-fitted-level-0);\n",
       "}\n",
       "\n",
       "/* on hover */\n",
       "#sk-container-id-8 div.sk-estimator:hover {\n",
       "  /* unfitted */\n",
       "  background-color: var(--sklearn-color-unfitted-level-2);\n",
       "}\n",
       "\n",
       "#sk-container-id-8 div.sk-estimator.fitted:hover {\n",
       "  /* fitted */\n",
       "  background-color: var(--sklearn-color-fitted-level-2);\n",
       "}\n",
       "\n",
       "/* Specification for estimator info (e.g. \"i\" and \"?\") */\n",
       "\n",
       "/* Common style for \"i\" and \"?\" */\n",
       "\n",
       ".sk-estimator-doc-link,\n",
       "a:link.sk-estimator-doc-link,\n",
       "a:visited.sk-estimator-doc-link {\n",
       "  float: right;\n",
       "  font-size: smaller;\n",
       "  line-height: 1em;\n",
       "  font-family: monospace;\n",
       "  background-color: var(--sklearn-color-background);\n",
       "  border-radius: 1em;\n",
       "  height: 1em;\n",
       "  width: 1em;\n",
       "  text-decoration: none !important;\n",
       "  margin-left: 1ex;\n",
       "  /* unfitted */\n",
       "  border: var(--sklearn-color-unfitted-level-1) 1pt solid;\n",
       "  color: var(--sklearn-color-unfitted-level-1);\n",
       "}\n",
       "\n",
       ".sk-estimator-doc-link.fitted,\n",
       "a:link.sk-estimator-doc-link.fitted,\n",
       "a:visited.sk-estimator-doc-link.fitted {\n",
       "  /* fitted */\n",
       "  border: var(--sklearn-color-fitted-level-1) 1pt solid;\n",
       "  color: var(--sklearn-color-fitted-level-1);\n",
       "}\n",
       "\n",
       "/* On hover */\n",
       "div.sk-estimator:hover .sk-estimator-doc-link:hover,\n",
       ".sk-estimator-doc-link:hover,\n",
       "div.sk-label-container:hover .sk-estimator-doc-link:hover,\n",
       ".sk-estimator-doc-link:hover {\n",
       "  /* unfitted */\n",
       "  background-color: var(--sklearn-color-unfitted-level-3);\n",
       "  color: var(--sklearn-color-background);\n",
       "  text-decoration: none;\n",
       "}\n",
       "\n",
       "div.sk-estimator.fitted:hover .sk-estimator-doc-link.fitted:hover,\n",
       ".sk-estimator-doc-link.fitted:hover,\n",
       "div.sk-label-container:hover .sk-estimator-doc-link.fitted:hover,\n",
       ".sk-estimator-doc-link.fitted:hover {\n",
       "  /* fitted */\n",
       "  background-color: var(--sklearn-color-fitted-level-3);\n",
       "  color: var(--sklearn-color-background);\n",
       "  text-decoration: none;\n",
       "}\n",
       "\n",
       "/* Span, style for the box shown on hovering the info icon */\n",
       ".sk-estimator-doc-link span {\n",
       "  display: none;\n",
       "  z-index: 9999;\n",
       "  position: relative;\n",
       "  font-weight: normal;\n",
       "  right: .2ex;\n",
       "  padding: .5ex;\n",
       "  margin: .5ex;\n",
       "  width: min-content;\n",
       "  min-width: 20ex;\n",
       "  max-width: 50ex;\n",
       "  color: var(--sklearn-color-text);\n",
       "  box-shadow: 2pt 2pt 4pt #999;\n",
       "  /* unfitted */\n",
       "  background: var(--sklearn-color-unfitted-level-0);\n",
       "  border: .5pt solid var(--sklearn-color-unfitted-level-3);\n",
       "}\n",
       "\n",
       ".sk-estimator-doc-link.fitted span {\n",
       "  /* fitted */\n",
       "  background: var(--sklearn-color-fitted-level-0);\n",
       "  border: var(--sklearn-color-fitted-level-3);\n",
       "}\n",
       "\n",
       ".sk-estimator-doc-link:hover span {\n",
       "  display: block;\n",
       "}\n",
       "\n",
       "/* \"?\"-specific style due to the `<a>` HTML tag */\n",
       "\n",
       "#sk-container-id-8 a.estimator_doc_link {\n",
       "  float: right;\n",
       "  font-size: 1rem;\n",
       "  line-height: 1em;\n",
       "  font-family: monospace;\n",
       "  background-color: var(--sklearn-color-background);\n",
       "  border-radius: 1rem;\n",
       "  height: 1rem;\n",
       "  width: 1rem;\n",
       "  text-decoration: none;\n",
       "  /* unfitted */\n",
       "  color: var(--sklearn-color-unfitted-level-1);\n",
       "  border: var(--sklearn-color-unfitted-level-1) 1pt solid;\n",
       "}\n",
       "\n",
       "#sk-container-id-8 a.estimator_doc_link.fitted {\n",
       "  /* fitted */\n",
       "  border: var(--sklearn-color-fitted-level-1) 1pt solid;\n",
       "  color: var(--sklearn-color-fitted-level-1);\n",
       "}\n",
       "\n",
       "/* On hover */\n",
       "#sk-container-id-8 a.estimator_doc_link:hover {\n",
       "  /* unfitted */\n",
       "  background-color: var(--sklearn-color-unfitted-level-3);\n",
       "  color: var(--sklearn-color-background);\n",
       "  text-decoration: none;\n",
       "}\n",
       "\n",
       "#sk-container-id-8 a.estimator_doc_link.fitted:hover {\n",
       "  /* fitted */\n",
       "  background-color: var(--sklearn-color-fitted-level-3);\n",
       "}\n",
       "</style><div id=\"sk-container-id-8\" class=\"sk-top-container\"><div class=\"sk-text-repr-fallback\"><pre>KMeans(max_iter=500)</pre><b>In a Jupyter environment, please rerun this cell to show the HTML representation or trust the notebook. <br />On GitHub, the HTML representation is unable to render, please try loading this page with nbviewer.org.</b></div><div class=\"sk-container\" hidden><div class=\"sk-item\"><div class=\"sk-estimator fitted sk-toggleable\"><input class=\"sk-toggleable__control sk-hidden--visually\" id=\"sk-estimator-id-8\" type=\"checkbox\" checked><label for=\"sk-estimator-id-8\" class=\"sk-toggleable__label fitted sk-toggleable__label-arrow fitted\">&nbsp;&nbsp;KMeans<a class=\"sk-estimator-doc-link fitted\" rel=\"noreferrer\" target=\"_blank\" href=\"https://scikit-learn.org/1.4/modules/generated/sklearn.cluster.KMeans.html\">?<span>Documentation for KMeans</span></a><span class=\"sk-estimator-doc-link fitted\">i<span>Fitted</span></span></label><div class=\"sk-toggleable__content fitted\"><pre>KMeans(max_iter=500)</pre></div> </div></div></div></div>"
      ],
      "text/plain": [
       "KMeans(max_iter=500)"
      ]
     },
     "execution_count": 113,
     "metadata": {},
     "output_type": "execute_result"
    }
   ],
   "source": [
    "model.fit(x)"
   ]
  },
  {
   "cell_type": "code",
   "execution_count": 114,
   "metadata": {},
   "outputs": [
    {
     "data": {
      "text/plain": [
       "array([[172,  29, 161, ..., 105, 104,   0],\n",
       "       [137, 155,  65, ..., 109, 107,   0],\n",
       "       [ 44,  16,  65, ..., 107, 106,   0],\n",
       "       ...,\n",
       "       [  3, 129,  65, ..., 111, 110,   0],\n",
       "       [ 65, 176, 172, ..., 105, 104,   0],\n",
       "       [171,  65,  95, ..., 109, 108,  89]], dtype=int64)"
      ]
     },
     "execution_count": 114,
     "metadata": {},
     "output_type": "execute_result"
    }
   ],
   "source": [
    "order=model.cluster_centers_.argsort()[:,::-1]\n",
    "order"
   ]
  },
  {
   "cell_type": "code",
   "execution_count": 130,
   "metadata": {},
   "outputs": [
    {
     "name": "stdout",
     "output_type": "stream",
     "text": [
      "0\n",
      "war\n",
      "------------------------\n",
      "1\n",
      "resistance\n",
      "------------------------\n",
      "2\n",
      "cultural\n",
      "------------------------\n",
      "3\n",
      "sit\n",
      "------------------------\n",
      "4\n",
      "conclusion\n",
      "------------------------\n",
      "5\n",
      "affected\n",
      "------------------------\n",
      "6\n",
      "food\n",
      "------------------------\n",
      "7\n",
      "used\n",
      "------------------------\n"
     ]
    }
   ],
   "source": [
    "for i in range(8):\n",
    "    print(i)\n",
    "    for ind in order[i,:1]:\n",
    "        print(terms[ind])\n",
    "    print(\"------------------------\")"
   ]
  },
  {
   "cell_type": "code",
   "execution_count": 131,
   "metadata": {},
   "outputs": [],
   "source": [
    "text=\"food\"\n",
    "y=vec.transform([text])"
   ]
  },
  {
   "cell_type": "code",
   "execution_count": 132,
   "metadata": {},
   "outputs": [
    {
     "data": {
      "text/plain": [
       "array([6])"
      ]
     },
     "execution_count": 132,
     "metadata": {},
     "output_type": "execute_result"
    }
   ],
   "source": [
    "model.predict(y)"
   ]
  },
  {
   "cell_type": "code",
   "execution_count": null,
   "metadata": {},
   "outputs": [],
   "source": []
  }
 ],
 "metadata": {
  "kernelspec": {
   "display_name": "Python 3",
   "language": "python",
   "name": "python3"
  },
  "language_info": {
   "codemirror_mode": {
    "name": "ipython",
    "version": 3
   },
   "file_extension": ".py",
   "mimetype": "text/x-python",
   "name": "python",
   "nbconvert_exporter": "python",
   "pygments_lexer": "ipython3",
   "version": "3.11.8"
  }
 },
 "nbformat": 4,
 "nbformat_minor": 2
}
